{
 "cells": [
  {
   "cell_type": "code",
   "execution_count": 17,
   "id": "f90c0636-aec4-4c19-998a-7e6331bcd405",
   "metadata": {},
   "outputs": [],
   "source": [
    "# Import the required libraries and modules that you would need.\n",
    "# Read that data into Python and call the dataframe churnData.\n",
    "\n",
    "import pandas as pd\n",
    "pd.set_option('display.max_rows', None)\n",
    "churnData = pd.read_csv('./files_for_lab/Customer-Churn.csv')"
   ]
  },
  {
   "cell_type": "code",
   "execution_count": 25,
   "id": "a6a8ac01-054b-400e-8941-68041e484746",
   "metadata": {},
   "outputs": [],
   "source": [
    "# Check the datatypes of all the columns in the data. \n",
    "# You would see that the column TotalCharges is object type. \n",
    "# Convert this column into numeric type using pd.to_numeric function.\n",
    "\n",
    "churnData.dtypes\n",
    "\n",
    "def clean_totalcharges(x):\n",
    "    if x == ' ':\n",
    "        return 0\n",
    "    else:\n",
    "        return x\n",
    "churnData['TotalCharges'] = churnData['TotalCharges'].apply(clean_totalcharges) # there are spaces in the column that pd.to_numeric cannot handle, hence they need cleaning\n",
    "\n",
    "churnData['TotalCharges'] = pd.to_numeric(churnData['TotalCharges'])"
   ]
  },
  {
   "cell_type": "code",
   "execution_count": 28,
   "id": "da177b2c-87bf-4f10-b018-ba1c63903f48",
   "metadata": {},
   "outputs": [
    {
     "data": {
      "text/plain": [
       "gender              0\n",
       "SeniorCitizen       0\n",
       "Partner             0\n",
       "Dependents          0\n",
       "tenure              0\n",
       "PhoneService        0\n",
       "OnlineSecurity      0\n",
       "OnlineBackup        0\n",
       "DeviceProtection    0\n",
       "TechSupport         0\n",
       "StreamingTV         0\n",
       "StreamingMovies     0\n",
       "Contract            0\n",
       "MonthlyCharges      0\n",
       "TotalCharges        0\n",
       "Churn               0\n",
       "dtype: int64"
      ]
     },
     "execution_count": 28,
     "metadata": {},
     "output_type": "execute_result"
    }
   ],
   "source": [
    "# Check for null values in the dataframe. Replace the null values.\n",
    "\n",
    "churnData.isna().sum() # No nulls (except spaces replaced to zeros earlier)"
   ]
  },
  {
   "cell_type": "code",
   "execution_count": 34,
   "id": "69776e7c-f783-4bbc-9faa-2499b12e2f2d",
   "metadata": {},
   "outputs": [],
   "source": [
    "# Use the following features: tenure, SeniorCitizen, MonthlyCharges and TotalCharges\n",
    "\n",
    "X = churnData[['tenure','SeniorCitizen','MonthlyCharges','TotalCharges']]\n",
    "y = churnData['Churn']"
   ]
  },
  {
   "cell_type": "code",
   "execution_count": 88,
   "id": "63145de4-d440-45e6-8ac3-5c5d769470f7",
   "metadata": {},
   "outputs": [],
   "source": [
    "# Split the data into a training set and a test set.\n",
    "\n",
    "from sklearn.model_selection import train_test_split\n",
    "\n",
    "X_train, X_test, y_train, y_test = train_test_split(X, y, random_state=9212)"
   ]
  },
  {
   "cell_type": "code",
   "execution_count": 89,
   "id": "6bbd0680-7b4a-4b99-a677-3430aca0e5db",
   "metadata": {},
   "outputs": [],
   "source": [
    "# Scale the features either by using normalizer or a standard scaler.\n",
    "\n",
    "from sklearn.preprocessing import StandardScaler\n",
    "\n",
    "scaler = StandardScaler().fit(X_train)\n",
    "X_train_scaled = scaler.transform(X_train)\n",
    "X_test_scaled = scaler.transform(X_test)"
   ]
  },
  {
   "cell_type": "code",
   "execution_count": 90,
   "id": "c6f3700a-3ea5-4e1a-a3c4-9711f0dfc38f",
   "metadata": {},
   "outputs": [
    {
     "name": "stdout",
     "output_type": "stream",
     "text": [
      "test data accuracy was:  0.8160136286201022\n",
      "train data accuracy was:  0.7898523286633851\n"
     ]
    }
   ],
   "source": [
    "# Fit a logistic regression model on the training data.\n",
    "# Check the accuracy on the test data.\n",
    "\n",
    "from sklearn.tree import DecisionTreeClassifier\n",
    "\n",
    "model = DecisionTreeClassifier(max_depth=5)\n",
    "model.fit(X_train_scaled, y_train)\n",
    "\n",
    "print(\"test data accuracy was: \",model.score(X_test_scaled, y_test))\n",
    "print(\"train data accuracy was: \",model.score(X_train_scaled, y_train))"
   ]
  },
  {
   "cell_type": "code",
   "execution_count": 85,
   "id": "27bc08c1-5d69-4167-87e3-35125e33ba93",
   "metadata": {},
   "outputs": [
    {
     "data": {
      "image/png": "[encoded data removed]",
      "text/plain": [
       "<Figure size 432x288 with 1 Axes>"
      ]
     },
     "metadata": {
      "needs_background": "light"
     },
     "output_type": "display_data"
    }
   ],
   "source": [
    "max_depth = range(1,10)\n",
    "test = []\n",
    "train = []\n",
    "\n",
    "for depth in max_depth:\n",
    "    model = DecisionTreeClassifier(max_depth=depth)\n",
    "    model.fit(X_train_scaled, y_train)\n",
    "    test.append(model.score(X_test_scaled,y_test))\n",
    "    train.append(model.score(X_train_scaled,y_train))\n",
    "    \n",
    "import matplotlib.pyplot as plt\n",
    "plt.plot( train, label=\"training accuracy\")\n",
    "plt.plot( test, label=\"test accuracy\")\n",
    "plt.ylabel(\"Accuracy\")\n",
    "plt.xlabel(\"n_depth\")\n",
    "plt.legend()\n",
    "plt.show()"
   ]
  },
  {
   "cell_type": "code",
   "execution_count": 87,
   "id": "3a72569d-fd86-4053-bf56-06d51a01c16f",
   "metadata": {},
   "outputs": [
    {
     "name": "stderr",
     "output_type": "stream",
     "text": [
      "100%|██████████| 9999/9999 [03:38<00:00, 45.87it/s]"
     ]
    },
    {
     "name": "stdout",
     "output_type": "stream",
     "text": [
      "0.816 9212\n"
     ]
    },
    {
     "name": "stderr",
     "output_type": "stream",
     "text": [
      "\n"
     ]
    }
   ],
   "source": [
    "from tqdm import tqdm\n",
    "import time\n",
    "\n",
    "result = {}\n",
    "\n",
    "for rnd in tqdm(range(1,10000)):   \n",
    "    X_train, X_test, y_train, y_test = train_test_split(X, y, random_state=rnd)\n",
    "    scaler = StandardScaler().fit(X_train)\n",
    "    X_train_scaled = scaler.transform(X_train)\n",
    "    X_test_scaled = scaler.transform(X_test)  \n",
    "    model = DecisionTreeClassifier(max_depth=5)\n",
    "    model.fit(X_train_scaled, y_train)\n",
    "    result[model.score(X_test_scaled,y_test)] = rnd\n",
    "\n",
    "print(round(max(result),3),result[max(result)])\n",
    "# 0.816 @ 9212"
   ]
  },
  {
   "cell_type": "code",
   "execution_count": 91,
   "id": "ab02e3df-2ca8-4f57-ae75-af6c68dc417b",
   "metadata": {},
   "outputs": [
    {
     "data": {
      "text/plain": [
       "No     5174\n",
       "Yes    1869\n",
       "Name: Churn, dtype: int64"
      ]
     },
     "execution_count": 91,
     "metadata": {},
     "output_type": "execute_result"
    }
   ],
   "source": [
    "# Check for the imbalance.\n",
    "\n",
    "y.value_counts()"
   ]
  },
  {
   "cell_type": "code",
   "execution_count": 99,
   "id": "51a51d03-540c-4e6b-a307-f61fb33a5c40",
   "metadata": {},
   "outputs": [
    {
     "data": {
      "text/plain": [
       "(1869, 16)"
      ]
     },
     "metadata": {},
     "output_type": "display_data"
    },
    {
     "data": {
      "text/plain": [
       "(1869, 16)"
      ]
     },
     "metadata": {},
     "output_type": "display_data"
    },
    {
     "data": {
      "text/plain": [
       "(5174, 16)"
      ]
     },
     "metadata": {},
     "output_type": "display_data"
    },
    {
     "data": {
      "text/plain": [
       "(5174, 16)"
      ]
     },
     "metadata": {},
     "output_type": "display_data"
    }
   ],
   "source": [
    "# Use the resampling strategies used in class for upsampling and downsampling to create a balance between the two classes.\n",
    "\n",
    "from sklearn.utils import resample\n",
    "\n",
    "# Undersampling\n",
    "category_nochurn = churnData[churnData['Churn'] == 'No']\n",
    "category_churn = churnData[churnData['Churn'] == 'Yes']\n",
    "\n",
    "category_nochurn_undersampled = resample(category_nochurn, \n",
    "                                   replace=False, \n",
    "                                   n_samples = len(category_churn))\n",
    "\n",
    "display(category_nochurn_undersampled.shape)\n",
    "display(category_churn.shape)\n",
    "\n",
    "data_under = pd.concat([category_nochurn_undersampled, category_churn], axis = 0)\n",
    "\n",
    "# Oversampling\n",
    "category_churn_oversampled = resample(category_churn, \n",
    "                                   replace=True, \n",
    "                                   n_samples = len(category_nochurn))\n",
    "\n",
    "display(category_nochurn.shape)\n",
    "display(category_churn_oversampled.shape)\n",
    "\n",
    "data_over = pd.concat([category_nochurn, category_churn_oversampled], axis = 0)\n"
   ]
  },
  {
   "cell_type": "code",
   "execution_count": 102,
   "id": "c55b07de-a6d3-4f7d-95f4-c87ca6ba0799",
   "metadata": {},
   "outputs": [
    {
     "name": "stdout",
     "output_type": "stream",
     "text": [
      "test data accuracy was:  0.718716577540107\n",
      "train data accuracy was:  0.7588298251872994\n"
     ]
    }
   ],
   "source": [
    "# Each time fit the model and see how the accuracy of the model is.\n",
    "\n",
    "# Undersampling\n",
    "\n",
    "X = data_under[['tenure','SeniorCitizen','MonthlyCharges','TotalCharges']]\n",
    "y = data_under['Churn']\n",
    "\n",
    "X_train, X_test, y_train, y_test = train_test_split(X, y, random_state=9212)\n",
    "\n",
    "scaler = StandardScaler().fit(X_train)\n",
    "X_train_scaled = scaler.transform(X_train)\n",
    "X_test_scaled = scaler.transform(X_test)\n",
    "\n",
    "model = DecisionTreeClassifier(max_depth=5)\n",
    "model.fit(X_train_scaled, y_train)\n",
    "\n",
    "print(\"test data accuracy was: \",model.score(X_test_scaled, y_test))\n",
    "print(\"train data accuracy was: \",model.score(X_train_scaled, y_train))"
   ]
  },
  {
   "cell_type": "code",
   "execution_count": 103,
   "id": "9d20351b-81a1-4ccf-9921-0424e2d48b08",
   "metadata": {},
   "outputs": [
    {
     "name": "stdout",
     "output_type": "stream",
     "text": [
      "test data accuracy was:  0.7456513335910321\n",
      "train data accuracy was:  0.7582785723489242\n"
     ]
    }
   ],
   "source": [
    "# Oversampling\n",
    "\n",
    "X = data_over[['tenure','SeniorCitizen','MonthlyCharges','TotalCharges']]\n",
    "y = data_over['Churn']\n",
    "\n",
    "X_train, X_test, y_train, y_test = train_test_split(X, y, random_state=9212)\n",
    "\n",
    "scaler = StandardScaler().fit(X_train)\n",
    "X_train_scaled = scaler.transform(X_train)\n",
    "X_test_scaled = scaler.transform(X_test)\n",
    "\n",
    "model = DecisionTreeClassifier(max_depth=5)\n",
    "model.fit(X_train_scaled, y_train)\n",
    "\n",
    "print(\"test data accuracy was: \",model.score(X_test_scaled, y_test))\n",
    "print(\"train data accuracy was: \",model.score(X_train_scaled, y_train))"
   ]
  },
  {
   "cell_type": "code",
   "execution_count": 128,
   "id": "194489d8-5abc-4e03-989c-ffb51d396a21",
   "metadata": {},
   "outputs": [
    {
     "name": "stdout",
     "output_type": "stream",
     "text": [
      "test data accuracy was:  0.7801932367149759\n",
      "train data accuracy was:  0.7521140372070548\n"
     ]
    }
   ],
   "source": [
    "# BONUS: SMOTE\n",
    "\n",
    "from imblearn.over_sampling import SMOTE\n",
    "\n",
    "X = churnData[['tenure','SeniorCitizen','MonthlyCharges','TotalCharges']]\n",
    "y = churnData['Churn']\n",
    "\n",
    "sm = SMOTE(random_state=69,k_neighbors=4)\n",
    "X_SMOTE,y_SMOTE = sm.fit_resample(X,y)\n",
    "\n",
    "X_train, X_test, y_train, y_test = train_test_split(X_SMOTE, y_SMOTE, test_size = 0.2, random_state=37)\n",
    "\n",
    "scaler = StandardScaler().fit(X_train)\n",
    "X_train_scaled = scaler.transform(X_train)\n",
    "X_test_scaled = scaler.transform(X_test)\n",
    "\n",
    "model = DecisionTreeClassifier(max_depth=5)\n",
    "model.fit(X_train_scaled, y_train)\n",
    "\n",
    "print(\"test data accuracy was: \",model.score(X_test_scaled, y_test))\n",
    "print(\"train data accuracy was: \",model.score(X_train_scaled, y_train))"
   ]
  },
  {
   "cell_type": "code",
   "execution_count": 117,
   "id": "74adb8da-1bf3-499b-991b-8914811ba1cf",
   "metadata": {},
   "outputs": [
    {
     "name": "stderr",
     "output_type": "stream",
     "text": [
      "10000it [11:04, 15.06it/s]"
     ]
    },
    {
     "name": "stdout",
     "output_type": "stream",
     "text": [
      "0.78 [69, 37]\n"
     ]
    },
    {
     "name": "stderr",
     "output_type": "stream",
     "text": [
      "\n"
     ]
    }
   ],
   "source": [
    "import itertools\n",
    "result = {}\n",
    "\n",
    "X = churnData[['tenure','SeniorCitizen','MonthlyCharges','TotalCharges']]\n",
    "y = churnData['Churn']\n",
    "\n",
    "for a, b in tqdm(itertools.product(range(100), range(100))): \n",
    "    sm = SMOTE(random_state=a,k_neighbors=4)\n",
    "    X_SMOTE,y_SMOTE = sm.fit_resample(X,y)\n",
    "    X_train, X_test, y_train, y_test = train_test_split(X_SMOTE, y_SMOTE, test_size=0.2, random_state=b)\n",
    "    scaler = StandardScaler().fit(X_train)\n",
    "    X_train_scaled = scaler.transform(X_train)\n",
    "    X_test_scaled = scaler.transform(X_test)\n",
    "    model = DecisionTreeClassifier(max_depth=5)\n",
    "    model.fit(X_train_scaled, y_train)\n",
    "    result[model.score(X_test_scaled,y_test)] = [a,b]\n",
    "\n",
    "print(round(max(result),3),result[max(result)])"
   ]
  }
 ],
 "metadata": {
  "kernelspec": {
   "display_name": "Python 3 (ipykernel)",
   "language": "python",
   "name": "python3"
  },
  "language_info": {
   "codemirror_mode": {
    "name": "ipython",
    "version": 3
   },
   "file_extension": ".py",
   "mimetype": "text/x-python",
   "name": "python",
   "nbconvert_exporter": "python",
   "pygments_lexer": "ipython3",
   "version": "3.8.8"
  }
 },
 "nbformat": 4,
 "nbformat_minor": 5
}
